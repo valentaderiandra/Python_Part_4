{
 "cells": [
  {
   "cell_type": "markdown",
   "id": "7366e42d",
   "metadata": {},
   "source": [
    "Unittest is a software testing process that ensures every unit/function of the program is tested."
   ]
  },
  {
   "cell_type": "code",
   "execution_count": 1,
   "id": "f048d653",
   "metadata": {},
   "outputs": [
    {
     "name": "stderr",
     "output_type": "stream",
     "text": [
      "E\n",
      "======================================================================\n",
      "ERROR: C:\\Users\\HP\\AppData\\Roaming\\jupyter\\runtime\\kernel-4bf4293d-3877-4c81-b394-ad4d6fcadd6c (unittest.loader._FailedTest)\n",
      "----------------------------------------------------------------------\n",
      "AttributeError: module '__main__' has no attribute 'C:\\Users\\HP\\AppData\\Roaming\\jupyter\\runtime\\kernel-4bf4293d-3877-4c81-b394-ad4d6fcadd6c'\n",
      "\n",
      "----------------------------------------------------------------------\n",
      "Ran 1 test in 0.003s\n",
      "\n",
      "FAILED (errors=1)\n"
     ]
    },
    {
     "ename": "SystemExit",
     "evalue": "True",
     "output_type": "error",
     "traceback": [
      "An exception has occurred, use %tb to see the full traceback.\n",
      "\u001b[1;31mSystemExit\u001b[0m\u001b[1;31m:\u001b[0m True\n"
     ]
    },
    {
     "name": "stderr",
     "output_type": "stream",
     "text": [
      "C:\\Users\\HP\\anaconda3\\lib\\site-packages\\IPython\\core\\interactiveshell.py:3377: UserWarning: To exit: use 'exit', 'quit', or Ctrl-D.\n",
      "  warn(\"To exit: use 'exit', 'quit', or Ctrl-D.\", stacklevel=1)\n"
     ]
    }
   ],
   "source": [
    "import unittest\n",
    "\n",
    "a=3\n",
    "b=5\n",
    "\n",
    "class Test__53a_UnitTest(unittest.TestCase):\n",
    "\n",
    "\tdef test_equal(self):\n",
    "\t\tself.assertEqual(3+4,a+b)\n",
    "\tdef test_greater(self):\n",
    "\t\tself.assertTrue(a+b>3+4)\n",
    "\n",
    "if __name__ == '__main__':\n",
    "\tunittest.main()"
   ]
  }
 ],
 "metadata": {
  "kernelspec": {
   "display_name": "Python 3 (ipykernel)",
   "language": "python",
   "name": "python3"
  },
  "language_info": {
   "codemirror_mode": {
    "name": "ipython",
    "version": 3
   },
   "file_extension": ".py",
   "mimetype": "text/x-python",
   "name": "python",
   "nbconvert_exporter": "python",
   "pygments_lexer": "ipython3",
   "version": "3.9.12"
  }
 },
 "nbformat": 4,
 "nbformat_minor": 5
}
