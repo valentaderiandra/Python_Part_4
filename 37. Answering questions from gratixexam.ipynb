{
 "cells": [
  {
   "cell_type": "markdown",
   "id": "99a02610",
   "metadata": {},
   "source": [
    "# Task 1"
   ]
  },
  {
   "cell_type": "code",
   "execution_count": 10,
   "id": "aade6025",
   "metadata": {},
   "outputs": [
    {
     "name": "stdout",
     "output_type": "stream",
     "text": [
      "the total payroll is :  215000\n",
      "the average salary is :  53750.0\n"
     ]
    }
   ],
   "source": [
    "employee_pay = [15000, 120000, 35000, 45000]\n",
    "count = 0\n",
    "sum = 0\n",
    "\n",
    "for index in range(0, len(employee_pay)):\n",
    "    count += 1\n",
    "    sum += employee_pay[index]\n",
    "average = sum/count\n",
    "print(\"the total payroll is : \", sum)\n",
    "print(\"the average salary is : \", average)"
   ]
  },
  {
   "cell_type": "markdown",
   "id": "586915bb",
   "metadata": {},
   "source": [
    "# Task 2"
   ]
  },
  {
   "cell_type": "code",
   "execution_count": 16,
   "id": "a389db65",
   "metadata": {},
   "outputs": [
    {
     "name": "stdout",
     "output_type": "stream",
     "text": [
      "Welcome to companyPro's Team-Building Weekend!\n",
      "Please enter your name (q to quit)?Valent\n",
      "Valent,your room number is 22\n",
      "You will meet with the Rafting Groupt this afternoon\n",
      "Please enter your name(q to quit)Q\n",
      "Q,your room number is 3\n",
      "You will meet with the Ropes Groupt this afternoon\n",
      "Please enter your name(q to quit)1.5\n",
      "1.5,your room number is 5\n",
      "You will meet with the Wellness Groupt this afternoon\n",
      "Please enter your name(q to quit)Valent\n",
      "Valent,your room number is 34\n",
      "You will meet with the Ropes Groupt this afternoon\n",
      "Please enter your name(q to quit)q\n"
     ]
    }
   ],
   "source": [
    "import random \n",
    "roomAssigned = [1]\n",
    "room_number=1\n",
    "groupList=[\"Ropes\",\"Rafting\",\"Obstacle\",\"Wellness\"]\n",
    "count = 0\n",
    "\n",
    "print(\"Welcome to companyPro's Team-Building Weekend!\")\n",
    "name = input (\"Please enter your name (q to quit)?\")\n",
    "while name != 'q' and count < 50:\n",
    "    while room_number in roomAssigned :\n",
    "        room_number=random.randint(1,50)\n",
    "   \n",
    "    print(f\"{name},your room number is {room_number}\")\n",
    "    roomAssigned.append(room_number)\n",
    "    group = random.choice(groupList)\n",
    "    print(f\"You will meet with the {group} Groupt this afternoon\")\n",
    "    count += 1\n",
    "    name = input(\"Please enter your name(q to quit)\")"
   ]
  },
  {
   "cell_type": "markdown",
   "id": "9199fadc",
   "metadata": {},
   "source": [
    "# Task 3"
   ]
  },
  {
   "cell_type": "code",
   "execution_count": 3,
   "id": "f74252f8",
   "metadata": {},
   "outputs": [
    {
     "name": "stdout",
     "output_type": "stream",
     "text": [
      "9\n",
      "Guess an interger from 1 to 10. You will have 3 chance.\n",
      "Guess an interger : 2\n",
      "Guess is to low\n",
      "Guess an interger : 9\n",
      "Geuss is just right\n"
     ]
    },
    {
     "data": {
      "text/plain": [
       "18"
      ]
     },
     "execution_count": 3,
     "metadata": {},
     "output_type": "execute_result"
    }
   ],
   "source": [
    "from random import randint\n",
    "target = randint(1,10)\n",
    "chance = 1\n",
    "print(target)\n",
    "print(\"Guess an interger from 1 to 10. You will have 3 chance.\")\n",
    "while chance <= 3:\n",
    "    guess = int(input(\"Guess an interger : \"))\n",
    "    if guess > target:\n",
    "        print(\"Guess is to high\")\n",
    "    elif guess < target:\n",
    "        print(\"Guess is to low\")\n",
    "    else:\n",
    "        print(\"Guess is just right\")\n",
    "        break\n",
    "    chance += 1\n"
   ]
  },
  {
   "cell_type": "markdown",
   "id": "b5b34ce1",
   "metadata": {},
   "source": [
    "# Task 4"
   ]
  },
  {
   "cell_type": "code",
   "execution_count": 21,
   "id": "494cdd30",
   "metadata": {},
   "outputs": [],
   "source": [
    "# the calc_power function calculates exponent\n",
    "# x is the base\n",
    "# y is the exponent\n",
    "# the value of x raised to the y power is returned\n",
    "def calc_power(x,y):\n",
    "    comment = \"#Return the value\"\n",
    "    return x ** y # raise x to the y power"
   ]
  },
  {
   "cell_type": "code",
   "execution_count": 22,
   "id": "453feae5",
   "metadata": {},
   "outputs": [
    {
     "data": {
      "text/plain": [
       "9"
      ]
     },
     "execution_count": 22,
     "metadata": {},
     "output_type": "execute_result"
    }
   ],
   "source": [
    "calc_power(3,2)"
   ]
  },
  {
   "cell_type": "markdown",
   "id": "2e740cb4",
   "metadata": {},
   "source": [
    "# Task 5"
   ]
  },
  {
   "cell_type": "code",
   "execution_count": 1,
   "id": "cdc0b3e0",
   "metadata": {},
   "outputs": [
    {
     "name": "stdout",
     "output_type": "stream",
     "text": [
      "20\n"
     ]
    }
   ],
   "source": [
    "from random import randrange\n",
    "(print(randrange(0, 105, 5)))"
   ]
  },
  {
   "cell_type": "markdown",
   "id": "1bbc22e9",
   "metadata": {},
   "source": [
    "# Task 6"
   ]
  },
  {
   "cell_type": "code",
   "execution_count": 7,
   "id": "0f78de2a",
   "metadata": {},
   "outputs": [
    {
     "name": "stdout",
     "output_type": "stream",
     "text": [
      "Enter your age : 20\n",
      "Enter the four-digit year : 2022\n",
      "You were born in 2002\n"
     ]
    }
   ],
   "source": [
    "age = input(\"Enter your age : \")\n",
    "year = input(\"Enter the four-digit year : \")\n",
    "born = eval(year) - eval(age)\n",
    "massage = \"You were born in \" + str(born)\n",
    "print(massage)"
   ]
  },
  {
   "cell_type": "code",
   "execution_count": 4,
   "id": "e5d33c21",
   "metadata": {},
   "outputs": [
    {
     "name": "stdout",
     "output_type": "stream",
     "text": [
      "<class 'str'>\n",
      "<class 'int'>\n",
      "<class 'str'>\n"
     ]
    }
   ],
   "source": [
    "print(type(age))\n",
    "print(type(born))\n",
    "print(type(massage))"
   ]
  },
  {
   "cell_type": "markdown",
   "id": "e0018e38",
   "metadata": {},
   "source": [
    "# Task 7"
   ]
  },
  {
   "cell_type": "code",
   "execution_count": 10,
   "id": "65ff1b52",
   "metadata": {},
   "outputs": [
    {
     "name": "stdout",
     "output_type": "stream",
     "text": [
      "Which letter would you like to countValent\n",
      "There are:  None Instances of Valent\n"
     ]
    }
   ],
   "source": [
    "# Function accepts list of words from a file\n",
    "#  and letter to search for.\n",
    "# Returns count of a particular letter in that list.\n",
    "def count_letter(letter,word_list) :\n",
    "    count = 0\n",
    "    for word in word_list : \n",
    "        if word is letter :\n",
    "            count += 1\n",
    "        return count\n",
    "word_list = []\n",
    "    \n",
    "# word_list is populated from a file.Code not the shown.\n",
    "letter = input(\"Which letter would you like to count\")\n",
    "letter_count = count_letter(letter,word_list)\n",
    "print(\"There are: \",letter_count,\"Instances of \"+letter)"
   ]
  },
  {
   "cell_type": "markdown",
   "id": "f3678f32",
   "metadata": {},
   "source": [
    "# Task 8 "
   ]
  },
  {
   "cell_type": "code",
   "execution_count": 11,
   "id": "c45c0e17",
   "metadata": {},
   "outputs": [
    {
     "name": "stdout",
     "output_type": "stream",
     "text": [
      "April-07-17\n"
     ]
    }
   ],
   "source": [
    "import datetime\n",
    "d = datetime.datetime(2017,4,7)\n",
    "print('{:%B-%d-%y}'.format(d))"
   ]
  },
  {
   "cell_type": "markdown",
   "id": "d5309c78",
   "metadata": {},
   "source": [
    "# Task 9"
   ]
  },
  {
   "cell_type": "code",
   "execution_count": 12,
   "id": "246e83ee",
   "metadata": {},
   "outputs": [
    {
     "name": "stdout",
     "output_type": "stream",
     "text": [
      "30.0\n"
     ]
    }
   ],
   "source": [
    "value1 = 24\n",
    "value2 = 7\n",
    "value3 = 17.9\n",
    "\n",
    "answer = (value1 % value2 *100) // 2.0**3.0-value2\n",
    "print(answer)"
   ]
  },
  {
   "cell_type": "markdown",
   "id": "7be7dfae",
   "metadata": {},
   "source": [
    "# Task 10"
   ]
  },
  {
   "cell_type": "code",
   "execution_count": 20,
   "id": "92e311e2",
   "metadata": {},
   "outputs": [
    {
     "name": "stdout",
     "output_type": "stream",
     "text": [
      "Enter your name : Valent\n",
      "Valent is mixed case\n"
     ]
    }
   ],
   "source": [
    "name = input(\"Enter your name : \")\n",
    "\n",
    "if name.lower() == name :\n",
    "    print(name,\"is all lower case\")\n",
    "elif name.upper() == name:\n",
    "    print(name,\"is all upper case.\")\n",
    "else:\n",
    "    print(name,\"is mixed case\")"
   ]
  },
  {
   "cell_type": "markdown",
   "id": "715ee435",
   "metadata": {},
   "source": [
    "# Task 11"
   ]
  },
  {
   "cell_type": "code",
   "execution_count": 2,
   "id": "8d73aca4",
   "metadata": {},
   "outputs": [
    {
     "name": "stdout",
     "output_type": "stream",
     "text": [
      "How Many miles did you bike this week? 20\n",
      "What is your name? Valent\n",
      "Valent, you burned about 1000 calories\n"
     ]
    }
   ],
   "source": [
    "def get_name():\n",
    "    name = input(\"What is your name? \")\n",
    "    return name\n",
    "\n",
    "def calc_calories(miles, calories_per_mile):\n",
    "    calories = miles * calories_per_mile\n",
    "    return calories\n",
    "\n",
    "distance = int(input(\"How Many miles did you bike this week? \"))\n",
    "burn_rate = 50\n",
    "biker = get_name()\n",
    "calories_burned = calc_calories(distance, burn_rate)\n",
    "print(f\"{biker}, you burned about {calories_burned} calories\")"
   ]
  },
  {
   "cell_type": "markdown",
   "id": "c19eb9e6",
   "metadata": {},
   "source": [
    "# Task 12"
   ]
  },
  {
   "cell_type": "code",
   "execution_count": 6,
   "id": "c0c503af",
   "metadata": {},
   "outputs": [],
   "source": [
    "def admission_fee(age,school):\n",
    "    rate = 0\n",
    "    if age >= 5 and school == True :\n",
    "        rate = 10\n",
    "    elif age >=5 and school == False :\n",
    "        if age<= 17:\n",
    "            rate = 20\n",
    "        else :\n",
    "            rate = 50\n",
    "    return rate"
   ]
  },
  {
   "cell_type": "markdown",
   "id": "2bdf7297",
   "metadata": {},
   "source": [
    "# Task 13"
   ]
  },
  {
   "cell_type": "code",
   "execution_count": 7,
   "id": "f54240ee",
   "metadata": {},
   "outputs": [
    {
     "name": "stdout",
     "output_type": "stream",
     "text": [
      "Enter next rating (1-5, -1 to done)1\n",
      "Enter next rating (1-5, -1 to done)2\n",
      "Enter next rating (1-5, -1 to done)5\n",
      "Enter next rating (1-5, -1 to done)3\n",
      "Enter next rating (1-5, -1 to done)4\n",
      "Enter next rating (1-5, -1 to done)-1\n",
      "The average star rating for the new coffee is : 3.0\n"
     ]
    }
   ],
   "source": [
    "sum = count = done = 0\n",
    "avarage = 0.0\n",
    "while done != -1:\n",
    "    rating = float(input(\"Enter next rating (1-5, -1 to done)\"))\n",
    "    if rating == -1:\n",
    "        break\n",
    "    sum += rating \n",
    "    count += 1\n",
    "average = float(sum / count)\n",
    "print(\"The average star rating for the new coffee is : {}\".format(average,\".2f\")) #2f yang memberi Anda pembulatan menjadi 2 desimal."
   ]
  },
  {
   "cell_type": "markdown",
   "id": "431e9d59",
   "metadata": {},
   "source": [
    "# Task 14"
   ]
  },
  {
   "cell_type": "code",
   "execution_count": 1,
   "id": "f0f18441",
   "metadata": {},
   "outputs": [],
   "source": [
    "def grosspay(hours=40,rate=25,pieces=0,piecerate=0,salary=0):\n",
    "    overtime = 0\n",
    "    if pieces > 0 :\n",
    "        return pieces*piecerate\n",
    "    if salary>0 :\n",
    "        pass #Pass is an instruction to python that no code is executed, so python continues executing the program below it.\n",
    "    if hours >40:\n",
    "        overtime = (hours*40)*(1.5*rate)\n",
    "        return overtime + (40*rate)\n",
    "    else :\n",
    "        return hours*rate"
   ]
  },
  {
   "cell_type": "code",
   "execution_count": 2,
   "id": "80fab161",
   "metadata": {},
   "outputs": [
    {
     "data": {
      "text/plain": [
       "1000"
      ]
     },
     "execution_count": 2,
     "metadata": {},
     "output_type": "execute_result"
    }
   ],
   "source": [
    "grosspay()"
   ]
  },
  {
   "cell_type": "code",
   "execution_count": 3,
   "id": "e204d35a",
   "metadata": {},
   "outputs": [
    {
     "data": {
      "text/plain": [
       "1000"
      ]
     },
     "execution_count": 3,
     "metadata": {},
     "output_type": "execute_result"
    }
   ],
   "source": [
    "grosspay(salary=5000)"
   ]
  },
  {
   "cell_type": "code",
   "execution_count": 4,
   "id": "6418f1fb",
   "metadata": {},
   "outputs": [
    {
     "data": {
      "text/plain": [
       "2000"
      ]
     },
     "execution_count": 4,
     "metadata": {},
     "output_type": "execute_result"
    }
   ],
   "source": [
    "grosspay(pieces=500,piecerate=4)"
   ]
  },
  {
   "cell_type": "markdown",
   "id": "868d3a62",
   "metadata": {},
   "source": [
    "# Task 15"
   ]
  },
  {
   "cell_type": "code",
   "execution_count": 56,
   "id": "ac7f99e9",
   "metadata": {},
   "outputs": [
    {
     "name": "stdout",
     "output_type": "stream",
     "text": [
      "Enter a number with 1 or 2 digits: -99\n",
      "2 digits\n"
     ]
    }
   ],
   "source": [
    "num = int(input(\"Enter a number with 1 or 2 digits: \"))\n",
    "digits = \"0\"\n",
    "if num > -10 and num < 10 :\n",
    "\tdigits = \"1\"\n",
    "elif (num < -9 and num > -100) or (num>9 and num <100) :\n",
    "\tdigits = '2'\n",
    "else :\n",
    "\tdigits = \">2\"\n",
    "print(digits+\" digits\")"
   ]
  },
  {
   "cell_type": "markdown",
   "id": "df1c6f5a",
   "metadata": {},
   "source": [
    "# Task 16"
   ]
  },
  {
   "cell_type": "code",
   "execution_count": 57,
   "id": "b38eca74",
   "metadata": {},
   "outputs": [
    {
     "name": "stdout",
     "output_type": "stream",
     "text": [
      "apples and bananas and oranges\n"
     ]
    }
   ],
   "source": [
    "x = \"oranges\"\n",
    "y = \"apples\"\n",
    "z = \"bananas\"\n",
    "data = \"{1} and {0} and {2}\"\n",
    "print(data.format(z,y,x))"
   ]
  }
 ],
 "metadata": {
  "kernelspec": {
   "display_name": "Python 3 (ipykernel)",
   "language": "python",
   "name": "python3"
  },
  "language_info": {
   "codemirror_mode": {
    "name": "ipython",
    "version": 3
   },
   "file_extension": ".py",
   "mimetype": "text/x-python",
   "name": "python",
   "nbconvert_exporter": "python",
   "pygments_lexer": "ipython3",
   "version": "3.9.12"
  }
 },
 "nbformat": 4,
 "nbformat_minor": 5
}
